{
  "nbformat": 4,
  "nbformat_minor": 0,
  "metadata": {
    "colab": {
      "provenance": [],
      "authorship_tag": "ABX9TyOqmkoD0TPc1rqnS2z9lOD9",
      "include_colab_link": true
    },
    "kernelspec": {
      "name": "python3",
      "display_name": "Python 3"
    },
    "language_info": {
      "name": "python"
    }
  },
  "cells": [
    {
      "cell_type": "markdown",
      "metadata": {
        "id": "view-in-github",
        "colab_type": "text"
      },
      "source": [
        "<a href=\"https://colab.research.google.com/github/aminKMT/Grokking_Algorithms/blob/main/Grokking_Algortithem.ipynb\" target=\"_parent\"><img src=\"https://colab.research.google.com/assets/colab-badge.svg\" alt=\"Open In Colab\"/></a>"
      ]
    },
    {
      "cell_type": "markdown",
      "source": [
        "# CHAPTER 1, page 8 : Binary_Serach"
      ],
      "metadata": {
        "id": "2ajPSnKKssvt"
      }
    },
    {
      "cell_type": "markdown",
      "source": [
        "## why low = 0 and high = len(arr)- 1"
      ],
      "metadata": {
        "id": "rQcxrikV2DQP"
      }
    },
    {
      "cell_type": "code",
      "source": [
        "arr = [1,2,3,4,5]\n",
        "# Low and high both indciatinf indexes to find teh location of item in the list:\n",
        "\n",
        "low = 0\n",
        "high = len(arr)-1\n",
        "mid = (low + high)//2\n",
        "\n",
        "\n",
        "print(\"low = \", low)\n",
        "print('len(arr)-1 = ' ,high)\n",
        "print('mid = ' ,mid)\n",
        "\n",
        "print('arr[0] = ', arr[0])\n",
        "print('arr[4] = ', arr[4])\n",
        "print('arr[2] = ', arr[2])"
      ],
      "metadata": {
        "colab": {
          "base_uri": "https://localhost:8080/"
        },
        "id": "GaPuT3oqs9xx",
        "outputId": "e833444c-8c73-4b90-f22b-b80cd7d4beb2"
      },
      "execution_count": null,
      "outputs": [
        {
          "output_type": "stream",
          "name": "stdout",
          "text": [
            "low =  0\n",
            "len(arr)-1 =  4\n",
            "mid =  2\n",
            "arr[0] =  1\n",
            "arr[4] =  5\n",
            "arr[2] =  3\n"
          ]
        }
      ]
    },
    {
      "cell_type": "markdown",
      "source": [
        "## Binary search complete algorithem"
      ],
      "metadata": {
        "id": "ZYVIi2i92f4U"
      }
    },
    {
      "cell_type": "code",
      "source": [
        "def binary_search (arr, item):\n",
        "  low = 0\n",
        "  high = len(arr) - 1\n",
        "\n",
        "  while low <= high:\n",
        "    mid = (low + high) // 2\n",
        "    guess = arr[mid]\n",
        "    if guess ==  item :\n",
        "      return mid\n",
        "    elif guess > item :\n",
        "      high = mid - 1\n",
        "    else: low = mid+1\n",
        "  return \"I could not find it brooo! :( we do not have this freaking item in the list!\" # youcan put None as well\n",
        "\n",
        "# test it:\n",
        "arr = [1,3,5,7,9]\n",
        "\n",
        "binary_search (arr, 3)\n",
        "binary_search (arr, -1)\n"
      ],
      "metadata": {
        "colab": {
          "base_uri": "https://localhost:8080/",
          "height": 35
        },
        "id": "sdA35x95ykCr",
        "outputId": "ef4142f8-756e-44fe-d475-93df427f1e79"
      },
      "execution_count": null,
      "outputs": [
        {
          "output_type": "execute_result",
          "data": {
            "text/plain": [
              "'I could not find it brooo! :( we do not have this freaking item in the list!'"
            ],
            "application/vnd.google.colaboratory.intrinsic+json": {
              "type": "string"
            }
          },
          "metadata": {},
          "execution_count": 24
        }
      ]
    },
    {
      "cell_type": "markdown",
      "source": [
        "# Chapter 2 Selection Sort"
      ],
      "metadata": {
        "id": "0RMGWuEAS_aL"
      }
    },
    {
      "cell_type": "markdown",
      "source": [
        "## Example Code listing , Page 38(book), 64(PDF)"
      ],
      "metadata": {
        "id": "0WAdjbhKTXmk"
      }
    },
    {
      "cell_type": "code",
      "source": [
        "# Step 1: making a function is able to find teh index of teh smallest number in tehlist\n",
        "def findSmallest(arr):\n",
        "  smallest_value = arr[0]\n",
        "  smallest_index = 0\n",
        "  for i in range(1, len(arr)):\n",
        "    if arr[i] < smallest_value:\n",
        "      smallest_value = arr[i]\n",
        "      smallest_index = i\n",
        "  return smallest_index\n",
        "\n",
        "# example:\n",
        "a = [5,3,6,2, 10]\n",
        "findSmallest(a)"
      ],
      "metadata": {
        "id": "uyA8a9csTTDp",
        "outputId": "9526db26-f2b5-463a-be06-90855d334d0d",
        "colab": {
          "base_uri": "https://localhost:8080/"
        }
      },
      "execution_count": 16,
      "outputs": [
        {
          "output_type": "execute_result",
          "data": {
            "text/plain": [
              "3"
            ]
          },
          "metadata": {},
          "execution_count": 16
        }
      ]
    },
    {
      "cell_type": "code",
      "source": [
        "#Final Selection Searchde\n",
        "def selectionSort(arr):\n",
        "  new_arr = []\n",
        "  arr_copy = arr[:]\n",
        "  for _ in range(len(arr_copy)): # this loop will be ran for 5 times\n",
        "      new_arr.append(arr_copy.pop(findSmallest(arr_copy)))\n",
        "  return new_arr"
      ],
      "metadata": {
        "id": "FwayO7y8Vffw"
      },
      "execution_count": 22,
      "outputs": []
    },
    {
      "cell_type": "code",
      "source": [
        "# example:\n",
        "a = [5,3,6,2, 10]\n",
        "selectionSort(a)"
      ],
      "metadata": {
        "id": "vC_7fYCObfj-",
        "outputId": "afd1a53e-ffcd-4580-a763-6913573ebcd6",
        "colab": {
          "base_uri": "https://localhost:8080/"
        }
      },
      "execution_count": 23,
      "outputs": [
        {
          "output_type": "execute_result",
          "data": {
            "text/plain": [
              "[2, 3, 5, 6, 10]"
            ]
          },
          "metadata": {},
          "execution_count": 23
        }
      ]
    },
    {
      "cell_type": "markdown",
      "source": [
        "##explanation:"
      ],
      "metadata": {
        "id": "x3n8v0Hhb1jz"
      }
    },
    {
      "cell_type": "markdown",
      "source": [
        "firts we created a function to find the index of the smallest number's index in the input list, Why? becaue teh paln is making a SelsctionSort function , that use list.pop(index) function which can get index and eliminate teh numnbver of that index from the list and simoltanously returning the eliminated number it self. So we will use it in teh bigger main function, to find teh ndex of teh smallest number, and then pop can find that number eliminate it from the origanl list and appemd it to the new array over the loop"
      ],
      "metadata": {
        "id": "fOWHlZ1Sb8Rb"
      }
    },
    {
      "cell_type": "code",
      "source": [
        "a = [5,3,6,2,10,11]\n",
        "for _ in range(len(a)):\n",
        "  print(_)"
      ],
      "metadata": {
        "id": "JFsx14D8bkd6",
        "outputId": "b69d9eca-bca8-4574-dbf4-f1593e7e2175",
        "colab": {
          "base_uri": "https://localhost:8080/"
        }
      },
      "execution_count": 27,
      "outputs": [
        {
          "output_type": "stream",
          "name": "stdout",
          "text": [
            "0\n",
            "1\n",
            "2\n",
            "3\n",
            "4\n",
            "5\n"
          ]
        }
      ]
    },
    {
      "cell_type": "code",
      "source": [],
      "metadata": {
        "id": "uxrGotWWe94_"
      },
      "execution_count": 25,
      "outputs": []
    }
  ]
}