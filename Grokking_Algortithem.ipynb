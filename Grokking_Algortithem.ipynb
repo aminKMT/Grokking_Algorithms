{
  "nbformat": 4,
  "nbformat_minor": 0,
  "metadata": {
    "colab": {
      "provenance": [],
      "authorship_tag": "ABX9TyPE82xwJVlj+T1Nnfts8JAq",
      "include_colab_link": true
    },
    "kernelspec": {
      "name": "python3",
      "display_name": "Python 3"
    },
    "language_info": {
      "name": "python"
    }
  },
  "cells": [
    {
      "cell_type": "markdown",
      "metadata": {
        "id": "view-in-github",
        "colab_type": "text"
      },
      "source": [
        "<a href=\"https://colab.research.google.com/github/aminKMT/Grokking_Algorithms/blob/main/Grokking_Algortithem.ipynb\" target=\"_parent\"><img src=\"https://colab.research.google.com/assets/colab-badge.svg\" alt=\"Open In Colab\"/></a>"
      ]
    },
    {
      "cell_type": "markdown",
      "source": [
        "# CHAPTER 1, page 8 : Binary_Serach"
      ],
      "metadata": {
        "id": "2ajPSnKKssvt"
      }
    },
    {
      "cell_type": "markdown",
      "source": [
        "## why low = 0 and high = len(arr)- 1"
      ],
      "metadata": {
        "id": "rQcxrikV2DQP"
      }
    },
    {
      "cell_type": "code",
      "source": [
        "arr = [1,2,3,4,5]\n",
        "# Low and high both indciatinf indexes to find teh location of item in the list:\n",
        "\n",
        "low = 0\n",
        "high = len(arr)-1\n",
        "mid = (low + high)//2\n",
        "\n",
        "\n",
        "print(\"low = \", low)\n",
        "print('len(arr)-1 = ' ,high)\n",
        "print('mid = ' ,mid)\n",
        "\n",
        "print('arr[0] = ', arr[0])\n",
        "print('arr[4] = ', arr[4])\n",
        "print('arr[2] = ', arr[2])"
      ],
      "metadata": {
        "colab": {
          "base_uri": "https://localhost:8080/"
        },
        "id": "GaPuT3oqs9xx",
        "outputId": "e833444c-8c73-4b90-f22b-b80cd7d4beb2"
      },
      "execution_count": null,
      "outputs": [
        {
          "output_type": "stream",
          "name": "stdout",
          "text": [
            "low =  0\n",
            "len(arr)-1 =  4\n",
            "mid =  2\n",
            "arr[0] =  1\n",
            "arr[4] =  5\n",
            "arr[2] =  3\n"
          ]
        }
      ]
    },
    {
      "cell_type": "markdown",
      "source": [
        "## Binary search complete algorithem"
      ],
      "metadata": {
        "id": "ZYVIi2i92f4U"
      }
    },
    {
      "cell_type": "code",
      "source": [
        "def binary_search (arr, item):\n",
        "  low = 0\n",
        "  high = len(arr) - 1\n",
        "\n",
        "  while low <= high:\n",
        "    mid = (low + high) // 2\n",
        "    guess = arr[mid]\n",
        "    if guess ==  item :\n",
        "      return mid\n",
        "    elif guess > item :\n",
        "      high = mid - 1\n",
        "    else: low = mid+1\n",
        "  return \"I could not find it brooo! :( we do not have this freaking item in the list!\" # youcan put None as well\n",
        "\n",
        "# test it:\n",
        "arr = [1,3,5,7,9]\n",
        "\n",
        "binary_search (arr, 3)\n",
        "binary_search (arr, -1)\n"
      ],
      "metadata": {
        "colab": {
          "base_uri": "https://localhost:8080/",
          "height": 35
        },
        "id": "sdA35x95ykCr",
        "outputId": "ef4142f8-756e-44fe-d475-93df427f1e79"
      },
      "execution_count": null,
      "outputs": [
        {
          "output_type": "execute_result",
          "data": {
            "text/plain": [
              "'I could not find it brooo! :( we do not have this freaking item in the list!'"
            ],
            "application/vnd.google.colaboratory.intrinsic+json": {
              "type": "string"
            }
          },
          "metadata": {},
          "execution_count": 24
        }
      ]
    },
    {
      "cell_type": "markdown",
      "source": [
        "# Chapter 2 Selection Sort"
      ],
      "metadata": {
        "id": "0RMGWuEAS_aL"
      }
    },
    {
      "cell_type": "markdown",
      "source": [
        "## Example Code listing , Page 38(book), 64(PDF)"
      ],
      "metadata": {
        "id": "0WAdjbhKTXmk"
      }
    },
    {
      "cell_type": "code",
      "source": [
        "# Step 1: making a function is able to find teh index of teh smallest number in tehlist\n",
        "def findSmallest(arr):\n",
        "  smallest_value = arr[0]\n",
        "  smallest_index = 0\n",
        "  for i in range(1, len(arr)):\n",
        "    if arr[i] < smallest_value:\n",
        "      smallest_value = arr[i]\n",
        "      smallest_index = i\n",
        "  return smallest_index\n",
        "\n",
        "# example:\n",
        "a = [5,3,6,2, 10]\n",
        "findSmallest(a)"
      ],
      "metadata": {
        "colab": {
          "base_uri": "https://localhost:8080/"
        },
        "id": "uyA8a9csTTDp",
        "outputId": "9526db26-f2b5-463a-be06-90855d334d0d"
      },
      "execution_count": null,
      "outputs": [
        {
          "output_type": "execute_result",
          "data": {
            "text/plain": [
              "3"
            ]
          },
          "metadata": {},
          "execution_count": 16
        }
      ]
    },
    {
      "cell_type": "code",
      "source": [
        "#Final Selection Searchde\n",
        "def selectionSort(arr):\n",
        "  new_arr = []\n",
        "  arr_copy = arr[:]\n",
        "  for _ in range(len(arr_copy)): # this loop will be ran for 5 times\n",
        "      new_arr.append(arr_copy.pop(findSmallest(arr_copy)))\n",
        "  return new_arr"
      ],
      "metadata": {
        "id": "FwayO7y8Vffw"
      },
      "execution_count": null,
      "outputs": []
    },
    {
      "cell_type": "code",
      "source": [
        "# example:\n",
        "a = [5,3,6,2, 10]\n",
        "selectionSort(a)"
      ],
      "metadata": {
        "colab": {
          "base_uri": "https://localhost:8080/"
        },
        "id": "vC_7fYCObfj-",
        "outputId": "afd1a53e-ffcd-4580-a763-6913573ebcd6"
      },
      "execution_count": null,
      "outputs": [
        {
          "output_type": "execute_result",
          "data": {
            "text/plain": [
              "[2, 3, 5, 6, 10]"
            ]
          },
          "metadata": {},
          "execution_count": 23
        }
      ]
    },
    {
      "cell_type": "markdown",
      "source": [
        "##explanation:"
      ],
      "metadata": {
        "id": "x3n8v0Hhb1jz"
      }
    },
    {
      "cell_type": "markdown",
      "source": [
        "We first write a helper function, findSmallest(arr), that returns the index of the smallest element in a list.\n",
        "Why do we need the index? Because the sorting function uses list.pop(index), which removes the element at that index and returns its value in one step.\n",
        "\n",
        "In the main selection(arr) function (selection sort):\n",
        "\n",
        "(Optionally) make a copy of the input list so we don’t change the original.\n",
        "\n",
        "Repeat for as many items as there are in the list:\n",
        "\n",
        "Use findSmallest to get the index of the smallest remaining element.\n",
        "\n",
        "Call pop(index) on the working list to remove that smallest element and get its value.\n",
        "\n",
        "append that value to new_arr.\n",
        "\n",
        "After the loop, new_arr contains all elements in ascending order.\n",
        "\n",
        "In short: find index → pop (remove & return value) → append to result, repeated until the input is emptied. This is the essence of selection sort in this implementation."
      ],
      "metadata": {
        "id": "fOWHlZ1Sb8Rb"
      }
    },
    {
      "cell_type": "code",
      "source": [
        "a = [5,3,6,2,10,11]\n",
        "for _ in range(len(a)):\n",
        "  print(_)"
      ],
      "metadata": {
        "colab": {
          "base_uri": "https://localhost:8080/"
        },
        "id": "JFsx14D8bkd6",
        "outputId": "b69d9eca-bca8-4574-dbf4-f1593e7e2175"
      },
      "execution_count": null,
      "outputs": [
        {
          "output_type": "stream",
          "name": "stdout",
          "text": [
            "0\n",
            "1\n",
            "2\n",
            "3\n",
            "4\n",
            "5\n"
          ]
        }
      ]
    },
    {
      "cell_type": "markdown",
      "source": [
        "# Chapter  4 Quick Sort"
      ],
      "metadata": {
        "id": "XEj-05wk3r3D"
      }
    },
    {
      "cell_type": "markdown",
      "source": [
        "## Inital D&C Page 60, 86 on pdf"
      ],
      "metadata": {
        "id": "bkrCd68P39Hx"
      }
    },
    {
      "cell_type": "code",
      "source": [
        "def sum(arr):\n",
        "  total = 0\n",
        "  for x in arr:\n",
        "    total +=x\n",
        "  return total\n",
        "\n",
        "arr = [2,4,6]\n",
        "sum(arr)\n"
      ],
      "metadata": {
        "id": "eb6Rgjef4Ewh",
        "outputId": "c1b362f7-0858-4354-abec-db74eb51745e",
        "colab": {
          "base_uri": "https://localhost:8080/"
        }
      },
      "execution_count": 3,
      "outputs": [
        {
          "output_type": "execute_result",
          "data": {
            "text/plain": [
              "12"
            ]
          },
          "metadata": {},
          "execution_count": 3
        }
      ]
    },
    {
      "cell_type": "markdown",
      "source": [],
      "metadata": {
        "id": "2Kj3ZFxm3z0u"
      }
    },
    {
      "cell_type": "code",
      "source": [
        "# 1 define bace :Simplest way you can solve the problem\n",
        "# 2 split the problem in to smaller sizes\n",
        "# Bace approach 1 , arr==[]\n",
        "# D&C:\n",
        "def sum(arr):\n",
        "  # defning the bace :\n",
        "  if arr == []:\n",
        "    return  0\n",
        "  return arr[0] + sum(arr[1:])\n",
        "\n",
        "arr = [2,4,6,2]\n",
        "sum(arr)"
      ],
      "metadata": {
        "id": "4RRbrWaS5gWf",
        "outputId": "8e7398d6-15f8-4eaa-cac6-58278c45367a",
        "colab": {
          "base_uri": "https://localhost:8080/"
        }
      },
      "execution_count": 10,
      "outputs": [
        {
          "output_type": "execute_result",
          "data": {
            "text/plain": [
              "14"
            ]
          },
          "metadata": {},
          "execution_count": 10
        }
      ]
    },
    {
      "cell_type": "code",
      "source": [
        "# Bace approach 2 , len(arr) == 1\n",
        "def suma(arr):\n",
        "  if len(arr) == 1:\n",
        "    return arr\n",
        "  return arr[0] + sum(arr[1:])\n",
        "\n",
        "arr =[2,4,6,2]\n",
        "suma(arr)"
      ],
      "metadata": {
        "id": "VjfeNvBoBnLe",
        "outputId": "d36f966f-891e-4af6-ba02-be9ad85da25c",
        "colab": {
          "base_uri": "https://localhost:8080/"
        }
      },
      "execution_count": 9,
      "outputs": [
        {
          "output_type": "execute_result",
          "data": {
            "text/plain": [
              "14"
            ]
          },
          "metadata": {},
          "execution_count": 9
        }
      ]
    }
  ]
}