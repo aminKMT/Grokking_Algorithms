{
  "nbformat": 4,
  "nbformat_minor": 0,
  "metadata": {
    "colab": {
      "provenance": [],
      "authorship_tag": "ABX9TyOz3OzSjY5+IAsR94JJjEax",
      "include_colab_link": true
    },
    "kernelspec": {
      "name": "python3",
      "display_name": "Python 3"
    },
    "language_info": {
      "name": "python"
    }
  },
  "cells": [
    {
      "cell_type": "markdown",
      "metadata": {
        "id": "view-in-github",
        "colab_type": "text"
      },
      "source": [
        "<a href=\"https://colab.research.google.com/github/aminKMT/Grokking_Algorithms/blob/main/Grokking_Algortithem.ipynb\" target=\"_parent\"><img src=\"https://colab.research.google.com/assets/colab-badge.svg\" alt=\"Open In Colab\"/></a>"
      ]
    },
    {
      "cell_type": "markdown",
      "source": [
        "# CHAPTER 1, page 8 : Binary_Serach"
      ],
      "metadata": {
        "id": "2ajPSnKKssvt"
      }
    },
    {
      "cell_type": "markdown",
      "source": [
        "## why low = 0 and high = len(arr)- 1"
      ],
      "metadata": {
        "id": "rQcxrikV2DQP"
      }
    },
    {
      "cell_type": "code",
      "source": [
        "arr = [1,2,3,4,5]\n",
        "# Low and high both indciatinf indexes to find teh location of item in the list:\n",
        "\n",
        "low = 0\n",
        "high = len(arr)-1\n",
        "mid = (low + high)//2\n",
        "\n",
        "\n",
        "print(\"low = \", low)\n",
        "print('len(arr)-1 = ' ,high)\n",
        "print('mid = ' ,mid)\n",
        "\n",
        "print('arr[0] = ', arr[0])\n",
        "print('arr[4] = ', arr[4])\n",
        "print('arr[2] = ', arr[2])"
      ],
      "metadata": {
        "colab": {
          "base_uri": "https://localhost:8080/"
        },
        "id": "GaPuT3oqs9xx",
        "outputId": "e833444c-8c73-4b90-f22b-b80cd7d4beb2"
      },
      "execution_count": 19,
      "outputs": [
        {
          "output_type": "stream",
          "name": "stdout",
          "text": [
            "low =  0\n",
            "len(arr)-1 =  4\n",
            "mid =  2\n",
            "arr[0] =  1\n",
            "arr[4] =  5\n",
            "arr[2] =  3\n"
          ]
        }
      ]
    },
    {
      "cell_type": "markdown",
      "source": [
        "## Binary search complete algorithem"
      ],
      "metadata": {
        "id": "ZYVIi2i92f4U"
      }
    },
    {
      "cell_type": "code",
      "source": [
        "def binary_search (arr, item):\n",
        "  low = 0\n",
        "  high = len(arr) - 1\n",
        "\n",
        "  while low <= high:\n",
        "    mid = (low + high) // 2\n",
        "    guess = arr[mid]\n",
        "    if guess ==  item :\n",
        "      return mid\n",
        "    elif guess > item :\n",
        "      high = mid - 1\n",
        "    else: low = mid+1\n",
        "  return \"I could not find it brooo! :( we do not have this freaking item in the list!\" # youcan put None as well\n",
        "\n",
        "# test it:\n",
        "arr = [1,3,5,7,9]\n",
        "\n",
        "binary_search (arr, 3)\n",
        "binary_search (arr, -1)\n"
      ],
      "metadata": {
        "colab": {
          "base_uri": "https://localhost:8080/",
          "height": 35
        },
        "id": "sdA35x95ykCr",
        "outputId": "ef4142f8-756e-44fe-d475-93df427f1e79"
      },
      "execution_count": 24,
      "outputs": [
        {
          "output_type": "execute_result",
          "data": {
            "text/plain": [
              "'I could not find it brooo! :( we do not have this freaking item in the list!'"
            ],
            "application/vnd.google.colaboratory.intrinsic+json": {
              "type": "string"
            }
          },
          "metadata": {},
          "execution_count": 24
        }
      ]
    },
    {
      "cell_type": "code",
      "source": [],
      "metadata": {
        "id": "vLC6BkBx5_S5"
      },
      "execution_count": null,
      "outputs": []
    }
  ]
}